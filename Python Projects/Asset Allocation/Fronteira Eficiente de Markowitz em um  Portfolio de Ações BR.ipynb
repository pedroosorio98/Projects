{
 "cells": [
  {
   "cell_type": "markdown",
   "metadata": {},
   "source": [
    "# Vamos avaliar a alocação de um portfolio composto por 2 ações brasileiras usando a fronteira eficiente de markowitz:"
   ]
  },
  {
   "cell_type": "markdown",
   "metadata": {},
   "source": [
    "**Importando os módulos necessários:**"
   ]
  },
  {
   "cell_type": "code",
   "execution_count": 67,
   "metadata": {},
   "outputs": [],
   "source": [
    "import pandas as pd \n",
    "from pandas_datareader import data as dt \n",
    "import numpy as np \n",
    "import matplotlib.pyplot as plt \n",
    "%matplotlib inline    "
   ]
  },
  {
   "cell_type": "markdown",
   "metadata": {},
   "source": [
    "**Ativos que utilizaremos para compor o portfólio teórico:**"
   ]
  },
  {
   "cell_type": "code",
   "execution_count": 68,
   "metadata": {},
   "outputs": [],
   "source": [
    "# Definimos os tickers dos ativos com os quais vamos compor o portfólio: \n",
    "assets = ['ABEV3.SA','LREN3.SA']"
   ]
  },
  {
   "cell_type": "markdown",
   "metadata": {},
   "source": [
    "**Estruturando e importando os dados necessários:**"
   ]
  },
  {
   "cell_type": "code",
   "execution_count": 69,
   "metadata": {},
   "outputs": [],
   "source": [
    "# Defino o dataframe de dados dos ativos do portfólio: \n",
    "data_assets = pd.DataFrame() \n",
    "\n",
    "# Importo os dados do yahoo finance:\n",
    "for i in assets: \n",
    "    data_assets[i]=dt.DataReader(i,data_source='yahoo',start='2010-01-01')['Adj Close']\n",
    "    \n",
    "# Defino o dataframe de retornos diários de cada ativo:\n",
    "data_assets_returns = data_assets.pct_change()"
   ]
  },
  {
   "cell_type": "markdown",
   "metadata": {},
   "source": [
    "**Matriz de covariância:**"
   ]
  },
  {
   "cell_type": "code",
   "execution_count": 70,
   "metadata": {},
   "outputs": [
    {
     "data": {
      "text/html": [
       "<div>\n",
       "<style scoped>\n",
       "    .dataframe tbody tr th:only-of-type {\n",
       "        vertical-align: middle;\n",
       "    }\n",
       "\n",
       "    .dataframe tbody tr th {\n",
       "        vertical-align: top;\n",
       "    }\n",
       "\n",
       "    .dataframe thead th {\n",
       "        text-align: right;\n",
       "    }\n",
       "</style>\n",
       "<table border=\"1\" class=\"dataframe\">\n",
       "  <thead>\n",
       "    <tr style=\"text-align: right;\">\n",
       "      <th></th>\n",
       "      <th>ABEV3.SA</th>\n",
       "      <th>LREN3.SA</th>\n",
       "    </tr>\n",
       "  </thead>\n",
       "  <tbody>\n",
       "    <tr>\n",
       "      <td>ABEV3.SA</td>\n",
       "      <td>0.000275</td>\n",
       "      <td>0.000146</td>\n",
       "    </tr>\n",
       "    <tr>\n",
       "      <td>LREN3.SA</td>\n",
       "      <td>0.000146</td>\n",
       "      <td>0.000556</td>\n",
       "    </tr>\n",
       "  </tbody>\n",
       "</table>\n",
       "</div>"
      ],
      "text/plain": [
       "          ABEV3.SA  LREN3.SA\n",
       "ABEV3.SA  0.000275  0.000146\n",
       "LREN3.SA  0.000146  0.000556"
      ]
     },
     "execution_count": 70,
     "metadata": {},
     "output_type": "execute_result"
    }
   ],
   "source": [
    "data_cov_matrix = data_assets_returns.cov()\n",
    "data_cov_matrix"
   ]
  },
  {
   "cell_type": "markdown",
   "metadata": {},
   "source": [
    "**Matriz de pesos:**"
   ]
  },
  {
   "cell_type": "code",
   "execution_count": 71,
   "metadata": {},
   "outputs": [
    {
     "data": {
      "text/html": [
       "<div>\n",
       "<style scoped>\n",
       "    .dataframe tbody tr th:only-of-type {\n",
       "        vertical-align: middle;\n",
       "    }\n",
       "\n",
       "    .dataframe tbody tr th {\n",
       "        vertical-align: top;\n",
       "    }\n",
       "\n",
       "    .dataframe thead th {\n",
       "        text-align: right;\n",
       "    }\n",
       "</style>\n",
       "<table border=\"1\" class=\"dataframe\">\n",
       "  <thead>\n",
       "    <tr style=\"text-align: right;\">\n",
       "      <th></th>\n",
       "      <th>ABEV3.SA</th>\n",
       "      <th>LREN3.SA</th>\n",
       "    </tr>\n",
       "  </thead>\n",
       "  <tbody>\n",
       "    <tr>\n",
       "      <td>0</td>\n",
       "      <td>0.529290</td>\n",
       "      <td>0.470710</td>\n",
       "    </tr>\n",
       "    <tr>\n",
       "      <td>1</td>\n",
       "      <td>0.488701</td>\n",
       "      <td>0.511299</td>\n",
       "    </tr>\n",
       "    <tr>\n",
       "      <td>2</td>\n",
       "      <td>0.947015</td>\n",
       "      <td>0.052985</td>\n",
       "    </tr>\n",
       "    <tr>\n",
       "      <td>3</td>\n",
       "      <td>0.776315</td>\n",
       "      <td>0.223685</td>\n",
       "    </tr>\n",
       "    <tr>\n",
       "      <td>4</td>\n",
       "      <td>0.149579</td>\n",
       "      <td>0.850421</td>\n",
       "    </tr>\n",
       "    <tr>\n",
       "      <td>...</td>\n",
       "      <td>...</td>\n",
       "      <td>...</td>\n",
       "    </tr>\n",
       "    <tr>\n",
       "      <td>1995</td>\n",
       "      <td>0.027835</td>\n",
       "      <td>0.972165</td>\n",
       "    </tr>\n",
       "    <tr>\n",
       "      <td>1996</td>\n",
       "      <td>0.598231</td>\n",
       "      <td>0.401769</td>\n",
       "    </tr>\n",
       "    <tr>\n",
       "      <td>1997</td>\n",
       "      <td>0.283979</td>\n",
       "      <td>0.716021</td>\n",
       "    </tr>\n",
       "    <tr>\n",
       "      <td>1998</td>\n",
       "      <td>0.422980</td>\n",
       "      <td>0.577020</td>\n",
       "    </tr>\n",
       "    <tr>\n",
       "      <td>1999</td>\n",
       "      <td>0.113608</td>\n",
       "      <td>0.886392</td>\n",
       "    </tr>\n",
       "  </tbody>\n",
       "</table>\n",
       "<p>2000 rows × 2 columns</p>\n",
       "</div>"
      ],
      "text/plain": [
       "      ABEV3.SA  LREN3.SA\n",
       "0     0.529290  0.470710\n",
       "1     0.488701  0.511299\n",
       "2     0.947015  0.052985\n",
       "3     0.776315  0.223685\n",
       "4     0.149579  0.850421\n",
       "...        ...       ...\n",
       "1995  0.027835  0.972165\n",
       "1996  0.598231  0.401769\n",
       "1997  0.283979  0.716021\n",
       "1998  0.422980  0.577020\n",
       "1999  0.113608  0.886392\n",
       "\n",
       "[2000 rows x 2 columns]"
      ]
     },
     "execution_count": 71,
     "metadata": {},
     "output_type": "execute_result"
    }
   ],
   "source": [
    "# Como poderemos fazer centenas de combinações destes ativos farei um dataframe com os pesos de cada combinação: \n",
    "# Defino o número de combinações que quero analisar:\n",
    "n = 2000\n",
    "\n",
    "# Montamos um dataframe com cada combinação: \n",
    "assets_rand_weights_df = pd.DataFrame(np.random.rand(len(assets),n),assets,list(range(n))).T\n",
    "assets_rand_weights_df = assets_rand_weights_df.div( assets_rand_weights_df.sum(axis=1),axis=0)\n",
    "assets_rand_weights_df"
   ]
  },
  {
   "cell_type": "markdown",
   "metadata": {},
   "source": [
    "**Matriz de retornos de cada ativo:** "
   ]
  },
  {
   "cell_type": "code",
   "execution_count": 72,
   "metadata": {
    "scrolled": true
   },
   "outputs": [
    {
     "data": {
      "text/plain": [
       "ABEV3.SA     4.13464\n",
       "LREN3.SA    15.48161\n",
       "dtype: float64"
      ]
     },
     "execution_count": 72,
     "metadata": {},
     "output_type": "execute_result"
    }
   ],
   "source": [
    "assets_returns_matrix = data_assets.iloc[-1].div(data_assets.iloc[0]).add(-1)\n",
    "assets_returns_matrix"
   ]
  },
  {
   "cell_type": "markdown",
   "metadata": {},
   "source": [
    "**Calculando a variância e o retorno de cada portfólio:**"
   ]
  },
  {
   "cell_type": "code",
   "execution_count": 73,
   "metadata": {},
   "outputs": [],
   "source": [
    "portfolios_variance = []\n",
    "portfolios_returns = []\n",
    "\n",
    "for i in assets_rand_weights_df.index:\n",
    "    portfolio_variance = np.dot(np.dot(np.array(assets_rand_weights_df.loc[i]).T,data_cov_matrix*252),np.array(assets_rand_weights_df.loc[i]))\n",
    "    portfolio_return = np.dot(np.array(assets_returns_matrix),np.array(assets_rand_weights_df.loc[i]))\n",
    "    portfolios_variance.append(portfolio_variance)\n",
    "    portfolios_returns.append(portfolio_return)"
   ]
  },
  {
   "cell_type": "markdown",
   "metadata": {},
   "source": [
    "# Plotando a fronteira eficiente:\n",
    "\n",
    "**Vemos que, dada uma determinada alocação, em alguns pontos existirá uma outra alocação que, mesmo tendo proporcionado o mesmo\n",
    "risco, entregou retornos maiores.**"
   ]
  },
  {
   "cell_type": "code",
   "execution_count": 74,
   "metadata": {},
   "outputs": [
    {
     "data": {
      "image/png": "[encoded data removed]",
      "text/plain": [
       "<Figure size 1152x360 with 1 Axes>"
      ]
     },
     "metadata": {
      "needs_background": "light"
     },
     "output_type": "display_data"
    }
   ],
   "source": [
    "plt.figure(figsize=(16,5))\n",
    "plt.scatter(portfolios_variance,portfolios_returns)\n",
    "plt.xlabel('Variância do Portfolio',fontsize=11)\n",
    "plt.ylabel('Retorno do Portfólio',fontsize=11)\n",
    "plt.title('Fronteira Eficiente (2 Ativos no Portfólio)',fontsize=13)\n",
    "plt.show()"
   ]
  },
  {
   "cell_type": "markdown",
   "metadata": {},
   "source": [
    "# Até aqui fizemos este exercício com 2 ativos, vamos ver o que acontece quando aumentamos o número de ativos que compoem o portfólio:"
   ]
  },
  {
   "cell_type": "markdown",
   "metadata": {},
   "source": [
    "**Fazendo o mesmo exercício acima mas considerando 3 ações no portfólio:**"
   ]
  },
  {
   "cell_type": "code",
   "execution_count": 75,
   "metadata": {},
   "outputs": [
    {
     "data": {
      "image/png": "[encoded data removed]",
      "text/plain": [
       "<Figure size 1152x360 with 1 Axes>"
      ]
     },
     "metadata": {
      "needs_background": "light"
     },
     "output_type": "display_data"
    }
   ],
   "source": [
    "# Definimos os tickers dos ativos com os quais vamos compor o portfólio: \n",
    "assets = ['ABEV3.SA','LREN3.SA','CSAN3.SA']\n",
    "\n",
    "# Defino o dataframe de dados dos ativos do portfólio: \n",
    "data_assets = pd.DataFrame() \n",
    "\n",
    "# Importo os dados do yahoo finance:\n",
    "for i in assets: \n",
    "    data_assets[i]=dt.DataReader(i,data_source='yahoo',start='2010-01-01')['Adj Close']\n",
    "    \n",
    "# Defino o dataframe de retornos diários de cada ativo:\n",
    "data_assets_returns = data_assets.pct_change()\n",
    "\n",
    "data_cov_matrix = data_assets_returns.cov()\n",
    "data_cov_matrix\n",
    "\n",
    "# Como poderemos fazer centenas de combinações destes ativos farei um dataframe com os pesos de cada combinação: \n",
    "# Defino o número de combinações que quero analisar:\n",
    "n = 2000\n",
    "\n",
    "# Montamos um dataframe com cada combinação: \n",
    "assets_rand_weights_df = pd.DataFrame(np.random.rand(len(assets),n),assets,list(range(n))).T\n",
    "assets_rand_weights_df = assets_rand_weights_df.div( assets_rand_weights_df.sum(axis=1),axis=0)\n",
    "assets_rand_weights_df\n",
    "\n",
    "assets_returns_matrix = data_assets.iloc[-1].div(data_assets.iloc[0]).add(-1)\n",
    "assets_returns_matrix\n",
    "\n",
    "portfolios_variance = []\n",
    "portfolios_returns = []\n",
    "\n",
    "for i in assets_rand_weights_df.index:\n",
    "    portfolio_variance = np.dot(np.dot(np.array(assets_rand_weights_df.loc[i]).T,data_cov_matrix*252),np.array(assets_rand_weights_df.loc[i]))\n",
    "    portfolio_return = np.dot(np.array(assets_returns_matrix),np.array(assets_rand_weights_df.loc[i]))\n",
    "    portfolios_variance.append(portfolio_variance)\n",
    "    portfolios_returns.append(portfolio_return)\n",
    "\n",
    "# Plotando a fronteira eficiente:\n",
    "\n",
    "plt.figure(figsize=(16,5))\n",
    "plt.scatter(portfolios_variance,portfolios_returns)\n",
    "plt.xlabel('Variância do Portfolio',fontsize=11)\n",
    "plt.ylabel('Retorno do Portfólio',fontsize=11)\n",
    "plt.title('Fronteira Eficiente (3 Ativos no Portfólio)',fontsize=13)\n",
    "plt.show()"
   ]
  },
  {
   "cell_type": "markdown",
   "metadata": {},
   "source": [
    "**Vemos novamente o formato de uma fronteira eficiente na borda, portfolios que não se encontram nessa fronteira não são eficientes, para qualquer portfólio que não esteja na fronteira eficiente, sempre existirá uma outra alocação que, mesmo tendo entregado o mesmo nível de risco, entregou retornos maiores:**"
   ]
  }
 ],
 "metadata": {
  "kernelspec": {
   "display_name": "Python 3",
   "language": "python",
   "name": "python3"
  },
  "language_info": {
   "codemirror_mode": {
    "name": "ipython",
    "version": 3
   },
   "file_extension": ".py",
   "mimetype": "text/x-python",
   "name": "python",
   "nbconvert_exporter": "python",
   "pygments_lexer": "ipython3",
   "version": "3.7.4"
  }
 },
 "nbformat": 4,
 "nbformat_minor": 2
}
