{
 "cells": [
  {
   "cell_type": "markdown",
   "metadata": {},
   "source": [
    "# Vou mostrar aqui os retornos anuais dos índices IMA da Anbima usando dados do BACEN pelo Quandl:"
   ]
  },
  {
   "cell_type": "markdown",
   "metadata": {},
   "source": [
    "# Primeiro importamos os módulos necessários: "
   ]
  },
  {
   "cell_type": "code",
   "execution_count": 1,
   "metadata": {},
   "outputs": [],
   "source": [
    "import quandl \n",
    "import pandas as pd "
   ]
  },
  {
   "cell_type": "markdown",
   "metadata": {},
   "source": [
    "# Importamos do Quandl o IMA-B, IMA-B-5 e IMA-G:"
   ]
  },
  {
   "cell_type": "code",
   "execution_count": 2,
   "metadata": {},
   "outputs": [],
   "source": [
    "ima_b = quandl.get(\"BCB/12466\").pct_change()\n",
    "ima_b_retornos_anuais = ((ima_b.add(1).cumprod()).groupby([ima_b.index.year,ima_b.index.year]).tail(1)).pct_change()\n",
    "\n",
    "ima_b_5 = quandl.get(\"BCB/12467\").pct_change()\n",
    "ima_b_5_retornos_anuais = ((ima_b_5.add(1).cumprod()).groupby([ima_b_5.index.year,ima_b_5.index.year]).tail(1)).pct_change()\n",
    "\n",
    "ima_g = quandl.get(\"BCB/12469\").pct_change()\n",
    "ima_g_retornos_anuais = ((ima_g.add(1).cumprod()).groupby([ima_g.index.year,ima_g.index.year]).tail(1)).pct_change()"
   ]
  },
  {
   "cell_type": "markdown",
   "metadata": {},
   "source": [
    "# Criamos um dataframe com os retornos anuais de 2010-2020: "
   ]
  },
  {
   "cell_type": "code",
   "execution_count": 3,
   "metadata": {},
   "outputs": [
    {
     "data": {
      "text/html": [
       "<div>\n",
       "<style scoped>\n",
       "    .dataframe tbody tr th:only-of-type {\n",
       "        vertical-align: middle;\n",
       "    }\n",
       "\n",
       "    .dataframe tbody tr th {\n",
       "        vertical-align: top;\n",
       "    }\n",
       "\n",
       "    .dataframe thead th {\n",
       "        text-align: right;\n",
       "    }\n",
       "</style>\n",
       "<table border=\"1\" class=\"dataframe\">\n",
       "  <thead>\n",
       "    <tr style=\"text-align: right;\">\n",
       "      <th></th>\n",
       "      <th>IMA-B</th>\n",
       "      <th>IMA-B-5</th>\n",
       "      <th>IMA-G</th>\n",
       "    </tr>\n",
       "    <tr>\n",
       "      <th>Date</th>\n",
       "      <th></th>\n",
       "      <th></th>\n",
       "      <th></th>\n",
       "    </tr>\n",
       "  </thead>\n",
       "  <tbody>\n",
       "    <tr>\n",
       "      <td>2010</td>\n",
       "      <td>17.044162</td>\n",
       "      <td>13.035047</td>\n",
       "      <td>12.979868</td>\n",
       "    </tr>\n",
       "    <tr>\n",
       "      <td>2011</td>\n",
       "      <td>15.108249</td>\n",
       "      <td>15.687908</td>\n",
       "      <td>13.652460</td>\n",
       "    </tr>\n",
       "    <tr>\n",
       "      <td>2012</td>\n",
       "      <td>26.677119</td>\n",
       "      <td>16.983996</td>\n",
       "      <td>17.732088</td>\n",
       "    </tr>\n",
       "    <tr>\n",
       "      <td>2013</td>\n",
       "      <td>-10.018041</td>\n",
       "      <td>2.777648</td>\n",
       "      <td>-1.424773</td>\n",
       "    </tr>\n",
       "    <tr>\n",
       "      <td>2014</td>\n",
       "      <td>14.543824</td>\n",
       "      <td>11.641467</td>\n",
       "      <td>12.357802</td>\n",
       "    </tr>\n",
       "    <tr>\n",
       "      <td>2015</td>\n",
       "      <td>8.881532</td>\n",
       "      <td>15.457013</td>\n",
       "      <td>9.317609</td>\n",
       "    </tr>\n",
       "    <tr>\n",
       "      <td>2016</td>\n",
       "      <td>24.810604</td>\n",
       "      <td>15.481511</td>\n",
       "      <td>20.995005</td>\n",
       "    </tr>\n",
       "    <tr>\n",
       "      <td>2017</td>\n",
       "      <td>12.794069</td>\n",
       "      <td>12.577699</td>\n",
       "      <td>12.818142</td>\n",
       "    </tr>\n",
       "    <tr>\n",
       "      <td>2018</td>\n",
       "      <td>13.058738</td>\n",
       "      <td>9.865486</td>\n",
       "      <td>10.034835</td>\n",
       "    </tr>\n",
       "    <tr>\n",
       "      <td>2019</td>\n",
       "      <td>22.950365</td>\n",
       "      <td>13.154176</td>\n",
       "      <td>12.820975</td>\n",
       "    </tr>\n",
       "    <tr>\n",
       "      <td>2020</td>\n",
       "      <td>-0.333697</td>\n",
       "      <td>3.670760</td>\n",
       "      <td>2.361035</td>\n",
       "    </tr>\n",
       "    <tr>\n",
       "      <td>ACUMULADO</td>\n",
       "      <td>273.556052</td>\n",
       "      <td>239.566654</td>\n",
       "      <td>217.495077</td>\n",
       "    </tr>\n",
       "    <tr>\n",
       "      <td>CAGR</td>\n",
       "      <td>14.086847</td>\n",
       "      <td>13.003658</td>\n",
       "      <td>12.246730</td>\n",
       "    </tr>\n",
       "  </tbody>\n",
       "</table>\n",
       "</div>"
      ],
      "text/plain": [
       "                IMA-B     IMA-B-5       IMA-G\n",
       "Date                                         \n",
       "2010        17.044162   13.035047   12.979868\n",
       "2011        15.108249   15.687908   13.652460\n",
       "2012        26.677119   16.983996   17.732088\n",
       "2013       -10.018041    2.777648   -1.424773\n",
       "2014        14.543824   11.641467   12.357802\n",
       "2015         8.881532   15.457013    9.317609\n",
       "2016        24.810604   15.481511   20.995005\n",
       "2017        12.794069   12.577699   12.818142\n",
       "2018        13.058738    9.865486   10.034835\n",
       "2019        22.950365   13.154176   12.820975\n",
       "2020        -0.333697    3.670760    2.361035\n",
       "ACUMULADO  273.556052  239.566654  217.495077\n",
       "CAGR        14.086847   13.003658   12.246730"
      ]
     },
     "metadata": {},
     "output_type": "display_data"
    }
   ],
   "source": [
    "IMA = pd.DataFrame()\n",
    "IMA['IMA-B']=ima_b_retornos_anuais['Value']\n",
    "IMA['IMA-B-5']=ima_b_5_retornos_anuais['Value']\n",
    "IMA['IMA-G']=ima_g_retornos_anuais['Value']\n",
    "\n",
    "#PEGAMOS APENAS DE 2010-2020:\n",
    "IMA_2010_2020 = IMA[6:].set_index(IMA[6:].index.year)\n",
    "\n",
    "#CALCULAMOS O RETORNO ACUMULADO DE CADA UM E INSERIMOS EM UMA LISTA:\n",
    "retorno_acumulado = [(IMA_2010_2020.add(1).cumprod().tail(1)-1).iloc[0,0],(IMA_2010_2020.add(1).cumprod()\n",
    "                    .tail(1)-1).iloc[0,1],(IMA_2010_2020.add(1).cumprod().tail(1)-1).iloc[0,2]]\n",
    "\n",
    "#ADICIONAMOS UMA LINHA COM OS RETORNOS ACUMULADOS NO DATA FRAME: \n",
    "IMA_2010_2020.loc['ACUMULADO'] = retorno_acumulado\n",
    "\n",
    "#CALCULAMOS O CAGR DE CADA UM E INSERIMOS UMA NOVA LINHA COM ELES: \n",
    "IMA_2010_2020.loc['CAGR']=(IMA_2010_2020.loc['ACUMULADO'].add(1))**0.1-1\n",
    "\n",
    "display(IMA_2010_2020*100)"
   ]
  },
  {
   "cell_type": "code",
   "execution_count": null,
   "metadata": {},
   "outputs": [],
   "source": []
  }
 ],
 "metadata": {
  "kernelspec": {
   "display_name": "Python 3",
   "language": "python",
   "name": "python3"
  },
  "language_info": {
   "codemirror_mode": {
    "name": "ipython",
    "version": 3
   },
   "file_extension": ".py",
   "mimetype": "text/x-python",
   "name": "python",
   "nbconvert_exporter": "python",
   "pygments_lexer": "ipython3",
   "version": "3.7.4"
  }
 },
 "nbformat": 4,
 "nbformat_minor": 2
}
