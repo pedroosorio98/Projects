{
 "cells": [
  {
   "cell_type": "markdown",
   "metadata": {},
   "source": [
    "# Vamos pegar as ações de alguns bancos e fazer uma regressão: "
   ]
  },
  {
   "cell_type": "code",
   "execution_count": 1,
   "metadata": {},
   "outputs": [],
   "source": [
    "#Vamos fazer uma regressão múltipla com ações do setor bancário: \n",
    "import pandas as pd \n",
    "from pandas_datareader import data as wb \n",
    "import numpy as np \n",
    "from scipy import stats \n",
    "import statsmodels.api as sm \n",
    "import matplotlib.pyplot as plt"
   ]
  },
  {
   "cell_type": "code",
   "execution_count": 2,
   "metadata": {},
   "outputs": [],
   "source": [
    "#definimos os tickers das ações que utilizaremos: \n",
    "tickers = ['ITUB4.SA','SANB4.SA','BBDC4.SA','BBAS3.SA']\n",
    "base_acoes=pd.DataFrame()"
   ]
  },
  {
   "cell_type": "code",
   "execution_count": 3,
   "metadata": {},
   "outputs": [],
   "source": [
    "#Vamos pegar os preços no yahoo finance e passar tudo para um data frame:\n",
    "for i in tickers: \n",
    "    base_acoes[i]=wb.DataReader(i,data_source='yahoo',start='2014-01-01')['Adj Close']"
   ]
  },
  {
   "cell_type": "code",
   "execution_count": 4,
   "metadata": {},
   "outputs": [],
   "source": [
    "#Criamos uma base com os retornos diários de cada ativo: \n",
    "base_acoes_retornos = base_acoes/base_acoes.shift(1)-1\n",
    "\n",
    "#Adicionamos na base colunas do retorno do dia anterior: \n",
    "base_acoes_retornos[['ITUB4.SA Anterior','SANB4.SA Anterior','BBDC4.SA Anterior','BBAS3.SA Anterior']]\\\n",
    "=base_acoes_retornos.shift(1)\n",
    "\n",
    "#Tiramos as linha da base que possuem NAN: \n",
    "base_acoes_retornos = base_acoes_retornos.iloc[2:]"
   ]
  },
  {
   "cell_type": "code",
   "execution_count": 5,
   "metadata": {},
   "outputs": [
    {
     "name": "stderr",
     "output_type": "stream",
     "text": [
      "C:\\Users\\pedro\\Anaconda3\\lib\\site-packages\\numpy\\core\\fromnumeric.py:2389: FutureWarning: Method .ptp is deprecated and will be removed in a future version. Use numpy.ptp instead.\n",
      "  return ptp(axis=axis, out=out, **kwargs)\n"
     ]
    },
    {
     "data": {
      "text/html": [
       "<table class=\"simpletable\">\n",
       "<caption>OLS Regression Results</caption>\n",
       "<tr>\n",
       "  <th>Dep. Variable:</th>        <td>ITUB4.SA</td>     <th>  R-squared:         </th> <td>   0.007</td>\n",
       "</tr>\n",
       "<tr>\n",
       "  <th>Model:</th>                   <td>OLS</td>       <th>  Adj. R-squared:    </th> <td>   0.005</td>\n",
       "</tr>\n",
       "<tr>\n",
       "  <th>Method:</th>             <td>Least Squares</td>  <th>  F-statistic:       </th> <td>   3.045</td>\n",
       "</tr>\n",
       "<tr>\n",
       "  <th>Date:</th>             <td>Wed, 29 Jul 2020</td> <th>  Prob (F-statistic):</th>  <td>0.0163</td> \n",
       "</tr>\n",
       "<tr>\n",
       "  <th>Time:</th>                 <td>18:00:55</td>     <th>  Log-Likelihood:    </th> <td>  3978.7</td>\n",
       "</tr>\n",
       "<tr>\n",
       "  <th>No. Observations:</th>      <td>  1630</td>      <th>  AIC:               </th> <td>  -7947.</td>\n",
       "</tr>\n",
       "<tr>\n",
       "  <th>Df Residuals:</th>          <td>  1625</td>      <th>  BIC:               </th> <td>  -7920.</td>\n",
       "</tr>\n",
       "<tr>\n",
       "  <th>Df Model:</th>              <td>     4</td>      <th>                     </th>     <td> </td>   \n",
       "</tr>\n",
       "<tr>\n",
       "  <th>Covariance Type:</th>      <td>nonrobust</td>    <th>                     </th>     <td> </td>   \n",
       "</tr>\n",
       "</table>\n",
       "<table class=\"simpletable\">\n",
       "<tr>\n",
       "          <td></td>             <th>coef</th>     <th>std err</th>      <th>t</th>      <th>P>|t|</th>  <th>[0.025</th>    <th>0.975]</th>  \n",
       "</tr>\n",
       "<tr>\n",
       "  <th>const</th>             <td>    0.0009</td> <td>    0.001</td> <td>    1.635</td> <td> 0.102</td> <td>   -0.000</td> <td>    0.002</td>\n",
       "</tr>\n",
       "<tr>\n",
       "  <th>ITUB4.SA Anterior</th> <td>    0.0259</td> <td>    0.052</td> <td>    0.494</td> <td> 0.621</td> <td>   -0.077</td> <td>    0.129</td>\n",
       "</tr>\n",
       "<tr>\n",
       "  <th>SANB4.SA Anterior</th> <td>   -0.0269</td> <td>    0.019</td> <td>   -1.407</td> <td> 0.160</td> <td>   -0.064</td> <td>    0.011</td>\n",
       "</tr>\n",
       "<tr>\n",
       "  <th>BBDC4.SA Anterior</th> <td>   -0.1010</td> <td>    0.042</td> <td>   -2.391</td> <td> 0.017</td> <td>   -0.184</td> <td>   -0.018</td>\n",
       "</tr>\n",
       "<tr>\n",
       "  <th>BBAS3.SA Anterior</th> <td>    0.0423</td> <td>    0.029</td> <td>    1.456</td> <td> 0.146</td> <td>   -0.015</td> <td>    0.099</td>\n",
       "</tr>\n",
       "</table>\n",
       "<table class=\"simpletable\">\n",
       "<tr>\n",
       "  <th>Omnibus:</th>       <td>119.416</td> <th>  Durbin-Watson:     </th> <td>   2.004</td> \n",
       "</tr>\n",
       "<tr>\n",
       "  <th>Prob(Omnibus):</th> <td> 0.000</td>  <th>  Jarque-Bera (JB):  </th> <td> 585.052</td> \n",
       "</tr>\n",
       "<tr>\n",
       "  <th>Skew:</th>          <td> 0.089</td>  <th>  Prob(JB):          </th> <td>9.07e-128</td>\n",
       "</tr>\n",
       "<tr>\n",
       "  <th>Kurtosis:</th>      <td> 5.930</td>  <th>  Cond. No.          </th> <td>    117.</td> \n",
       "</tr>\n",
       "</table><br/><br/>Warnings:<br/>[1] Standard Errors assume that the covariance matrix of the errors is correctly specified."
      ],
      "text/plain": [
       "<class 'statsmodels.iolib.summary.Summary'>\n",
       "\"\"\"\n",
       "                            OLS Regression Results                            \n",
       "==============================================================================\n",
       "Dep. Variable:               ITUB4.SA   R-squared:                       0.007\n",
       "Model:                            OLS   Adj. R-squared:                  0.005\n",
       "Method:                 Least Squares   F-statistic:                     3.045\n",
       "Date:                Wed, 29 Jul 2020   Prob (F-statistic):             0.0163\n",
       "Time:                        18:00:55   Log-Likelihood:                 3978.7\n",
       "No. Observations:                1630   AIC:                            -7947.\n",
       "Df Residuals:                    1625   BIC:                            -7920.\n",
       "Df Model:                           4                                         \n",
       "Covariance Type:            nonrobust                                         \n",
       "=====================================================================================\n",
       "                        coef    std err          t      P>|t|      [0.025      0.975]\n",
       "-------------------------------------------------------------------------------------\n",
       "const                 0.0009      0.001      1.635      0.102      -0.000       0.002\n",
       "ITUB4.SA Anterior     0.0259      0.052      0.494      0.621      -0.077       0.129\n",
       "SANB4.SA Anterior    -0.0269      0.019     -1.407      0.160      -0.064       0.011\n",
       "BBDC4.SA Anterior    -0.1010      0.042     -2.391      0.017      -0.184      -0.018\n",
       "BBAS3.SA Anterior     0.0423      0.029      1.456      0.146      -0.015       0.099\n",
       "==============================================================================\n",
       "Omnibus:                      119.416   Durbin-Watson:                   2.004\n",
       "Prob(Omnibus):                  0.000   Jarque-Bera (JB):              585.052\n",
       "Skew:                           0.089   Prob(JB):                    9.07e-128\n",
       "Kurtosis:                       5.930   Cond. No.                         117.\n",
       "==============================================================================\n",
       "\n",
       "Warnings:\n",
       "[1] Standard Errors assume that the covariance matrix of the errors is correctly specified.\n",
       "\"\"\""
      ]
     },
     "execution_count": 5,
     "metadata": {},
     "output_type": "execute_result"
    }
   ],
   "source": [
    "#Rodamos uma regressão querendo explicar o retorno de ITUB4 pelo retorno do dia anterior de cada ação: \n",
    "X = base_acoes_retornos[['ITUB4.SA Anterior','SANB4.SA Anterior','BBDC4.SA Anterior','BBAS3.SA Anterior']]\n",
    "Y = base_acoes_retornos['ITUB4.SA']\n",
    "X1 = sm.add_constant(X)\n",
    "reg = sm.OLS(Y,X1).fit()\n",
    "reg.summary()"
   ]
  }
 ],
 "metadata": {
  "kernelspec": {
   "display_name": "Python 3",
   "language": "python",
   "name": "python3"
  },
  "language_info": {
   "codemirror_mode": {
    "name": "ipython",
    "version": 3
   },
   "file_extension": ".py",
   "mimetype": "text/x-python",
   "name": "python",
   "nbconvert_exporter": "python",
   "pygments_lexer": "ipython3",
   "version": "3.7.4"
  }
 },
 "nbformat": 4,
 "nbformat_minor": 2
}
