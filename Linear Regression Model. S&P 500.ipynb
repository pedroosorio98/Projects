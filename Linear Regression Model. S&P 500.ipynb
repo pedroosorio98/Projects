{
 "cells": [
  {
   "cell_type": "markdown",
   "metadata": {},
   "source": [
    "### This notebook will be using past volatility and past returns for the S&P500 in order to try to build a multiple linear regression model in order to predict the S&P500 returns in the next 30 days:"
   ]
  },
  {
   "cell_type": "markdown",
   "metadata": {},
   "source": [
    "### Importing necessary modules:"
   ]
  },
  {
   "cell_type": "code",
   "execution_count": 16,
   "metadata": {},
   "outputs": [],
   "source": [
    "import pandas as pd\n",
    "import numpy as np\n",
    "import matplotlib.pyplot as plt\n",
    "from sklearn.model_selection import train_test_split "
   ]
  },
  {
   "cell_type": "markdown",
   "metadata": {},
   "source": [
    "### Importing and structuring S&P500 data:\n",
    "\n",
    "##### We will be using 30, 63 and 126 days for calculating past returns and past volatility"
   ]
  },
  {
   "cell_type": "code",
   "execution_count": 10,
   "metadata": {},
   "outputs": [
    {
     "data": {
      "text/html": [
       "<div>\n",
       "<style scoped>\n",
       "    .dataframe tbody tr th:only-of-type {\n",
       "        vertical-align: middle;\n",
       "    }\n",
       "\n",
       "    .dataframe tbody tr th {\n",
       "        vertical-align: top;\n",
       "    }\n",
       "\n",
       "    .dataframe thead th {\n",
       "        text-align: right;\n",
       "    }\n",
       "</style>\n",
       "<table border=\"1\" class=\"dataframe\">\n",
       "  <thead>\n",
       "    <tr style=\"text-align: right;\">\n",
       "      <th></th>\n",
       "      <th>30 Vol</th>\n",
       "      <th>63 Vol</th>\n",
       "      <th>126 Vol</th>\n",
       "      <th>30 Returns</th>\n",
       "      <th>63 Returns</th>\n",
       "      <th>126 Returns</th>\n",
       "      <th>Next 30 Returns</th>\n",
       "    </tr>\n",
       "  </thead>\n",
       "  <tbody>\n",
       "    <tr>\n",
       "      <th>0</th>\n",
       "      <td>0.016405</td>\n",
       "      <td>0.013776</td>\n",
       "      <td>0.010967</td>\n",
       "      <td>-0.007889</td>\n",
       "      <td>-0.184025</td>\n",
       "      <td>-0.215699</td>\n",
       "      <td>-0.024345</td>\n",
       "    </tr>\n",
       "    <tr>\n",
       "      <th>1</th>\n",
       "      <td>0.016035</td>\n",
       "      <td>0.013771</td>\n",
       "      <td>0.010951</td>\n",
       "      <td>0.010532</td>\n",
       "      <td>-0.178459</td>\n",
       "      <td>-0.219773</td>\n",
       "      <td>-0.030061</td>\n",
       "    </tr>\n",
       "    <tr>\n",
       "      <th>2</th>\n",
       "      <td>0.016301</td>\n",
       "      <td>0.013863</td>\n",
       "      <td>0.011010</td>\n",
       "      <td>-0.006505</td>\n",
       "      <td>-0.189110</td>\n",
       "      <td>-0.226675</td>\n",
       "      <td>-0.047126</td>\n",
       "    </tr>\n",
       "    <tr>\n",
       "      <th>3</th>\n",
       "      <td>0.015524</td>\n",
       "      <td>0.013869</td>\n",
       "      <td>0.011022</td>\n",
       "      <td>0.013950</td>\n",
       "      <td>-0.195050</td>\n",
       "      <td>-0.231027</td>\n",
       "      <td>-0.065223</td>\n",
       "    </tr>\n",
       "    <tr>\n",
       "      <th>4</th>\n",
       "      <td>0.015893</td>\n",
       "      <td>0.014310</td>\n",
       "      <td>0.011277</td>\n",
       "      <td>0.053543</td>\n",
       "      <td>-0.175421</td>\n",
       "      <td>-0.212344</td>\n",
       "      <td>-0.051455</td>\n",
       "    </tr>\n",
       "    <tr>\n",
       "      <th>...</th>\n",
       "      <td>...</td>\n",
       "      <td>...</td>\n",
       "      <td>...</td>\n",
       "      <td>...</td>\n",
       "      <td>...</td>\n",
       "      <td>...</td>\n",
       "      <td>...</td>\n",
       "    </tr>\n",
       "    <tr>\n",
       "      <th>12633</th>\n",
       "      <td>0.010898</td>\n",
       "      <td>0.013760</td>\n",
       "      <td>0.028995</td>\n",
       "      <td>0.050004</td>\n",
       "      <td>0.155583</td>\n",
       "      <td>0.014137</td>\n",
       "      <td>-0.033226</td>\n",
       "    </tr>\n",
       "    <tr>\n",
       "      <th>12634</th>\n",
       "      <td>0.010852</td>\n",
       "      <td>0.013771</td>\n",
       "      <td>0.028995</td>\n",
       "      <td>0.063553</td>\n",
       "      <td>0.158956</td>\n",
       "      <td>0.014063</td>\n",
       "      <td>-0.031339</td>\n",
       "    </tr>\n",
       "    <tr>\n",
       "      <th>12635</th>\n",
       "      <td>0.010824</td>\n",
       "      <td>0.013746</td>\n",
       "      <td>0.028967</td>\n",
       "      <td>0.060506</td>\n",
       "      <td>0.152721</td>\n",
       "      <td>0.002705</td>\n",
       "      <td>-0.023329</td>\n",
       "    </tr>\n",
       "    <tr>\n",
       "      <th>12636</th>\n",
       "      <td>0.010847</td>\n",
       "      <td>0.013703</td>\n",
       "      <td>0.028956</td>\n",
       "      <td>0.062747</td>\n",
       "      <td>0.168286</td>\n",
       "      <td>-0.002075</td>\n",
       "      <td>-0.008710</td>\n",
       "    </tr>\n",
       "    <tr>\n",
       "      <th>12637</th>\n",
       "      <td>0.009496</td>\n",
       "      <td>0.013665</td>\n",
       "      <td>0.028960</td>\n",
       "      <td>0.097966</td>\n",
       "      <td>0.162422</td>\n",
       "      <td>0.001010</td>\n",
       "      <td>0.008944</td>\n",
       "    </tr>\n",
       "  </tbody>\n",
       "</table>\n",
       "<p>12638 rows × 7 columns</p>\n",
       "</div>"
      ],
      "text/plain": [
       "         30 Vol    63 Vol   126 Vol  30 Returns  63 Returns  126 Returns  \\\n",
       "0      0.016405  0.013776  0.010967   -0.007889   -0.184025    -0.215699   \n",
       "1      0.016035  0.013771  0.010951    0.010532   -0.178459    -0.219773   \n",
       "2      0.016301  0.013863  0.011010   -0.006505   -0.189110    -0.226675   \n",
       "3      0.015524  0.013869  0.011022    0.013950   -0.195050    -0.231027   \n",
       "4      0.015893  0.014310  0.011277    0.053543   -0.175421    -0.212344   \n",
       "...         ...       ...       ...         ...         ...          ...   \n",
       "12633  0.010898  0.013760  0.028995    0.050004    0.155583     0.014137   \n",
       "12634  0.010852  0.013771  0.028995    0.063553    0.158956     0.014063   \n",
       "12635  0.010824  0.013746  0.028967    0.060506    0.152721     0.002705   \n",
       "12636  0.010847  0.013703  0.028956    0.062747    0.168286    -0.002075   \n",
       "12637  0.009496  0.013665  0.028960    0.097966    0.162422     0.001010   \n",
       "\n",
       "       Next 30 Returns  \n",
       "0            -0.024345  \n",
       "1            -0.030061  \n",
       "2            -0.047126  \n",
       "3            -0.065223  \n",
       "4            -0.051455  \n",
       "...                ...  \n",
       "12633        -0.033226  \n",
       "12634        -0.031339  \n",
       "12635        -0.023329  \n",
       "12636        -0.008710  \n",
       "12637         0.008944  \n",
       "\n",
       "[12638 rows x 7 columns]"
      ]
     },
     "execution_count": 10,
     "metadata": {},
     "output_type": "execute_result"
    }
   ],
   "source": [
    "import pandas as pd\n",
    "from pandas_datareader import data as dt\n",
    "data = dt.DataReader(\"^GSPC\",data_source=\"yahoo\",start=1970)\n",
    "\n",
    "# Last 30 days volatility: \n",
    "data[\"30 Vol\"] = data[\"Adj Close\"].pct_change().rolling(30).std()\n",
    "\n",
    "# Last 63 days volatility: \n",
    "data[\"63 Vol\"] = data[\"Adj Close\"].pct_change().rolling(63).std()\n",
    "\n",
    "# Last 126 days volatility: \n",
    "data[\"126 Vol\"] = data[\"Adj Close\"].pct_change().rolling(126).std()\n",
    "\n",
    "# Last 30 days return:\n",
    "data[\"30 Returns\"]=data[\"Adj Close\"].pct_change(30)\n",
    "\n",
    "# Last 63 days return:\n",
    "data[\"63 Returns\"]=data[\"Adj Close\"].pct_change(63)\n",
    "\n",
    "# Last 126 days return:\n",
    "data[\"126 Returns\"]=data[\"Adj Close\"].pct_change(126)\n",
    "\n",
    "# Next 30 days return:\n",
    "data[\"Next 30 Returns\"]=data[\"Adj Close\"].pct_change(-30)\n",
    "\n",
    "# Dropping the initial columns from the data set: \n",
    "data.drop([\"High\",\"Open\",\"Close\",\"Adj Close\",\"Volume\",\"Low\"],axis=1,inplace=True)\n",
    "\n",
    "# Dropping nans:\n",
    "data.dropna(inplace=True)\n",
    "\n",
    "# Adding numeric index:\n",
    "data.reset_index(inplace=True)\n",
    "\n",
    "# Dropping dates from the data set:\n",
    "data.drop([\"Date\"],axis=1,inplace=True)\n",
    "\n",
    "data"
   ]
  },
  {
   "cell_type": "markdown",
   "metadata": {},
   "source": [
    "### Building train and test sets:"
   ]
  },
  {
   "cell_type": "code",
   "execution_count": 3,
   "metadata": {},
   "outputs": [],
   "source": [
    "# Random sample with 90% of the indexes in the data set:\n",
    "idx = np.random.randint(1,len(data),int(0.9*len(data)))\n",
    "\n",
    "# Using 90% of the data to test the model and other 10% to test it: \n",
    "train_set = data.loc[idx]\n",
    "test_set = data.drop(idx)"
   ]
  },
  {
   "cell_type": "markdown",
   "metadata": {},
   "source": [
    "### Building the linear regression model:"
   ]
  },
  {
   "cell_type": "code",
   "execution_count": 12,
   "metadata": {},
   "outputs": [],
   "source": [
    "# Using sklearn to build the model:\n",
    "from sklearn.linear_model import LinearRegression\n",
    "x_train = train_set.drop([\"Next 30 Returns\"],axis=1)\n",
    "y_train = train_set[[\"Next 30 Returns\"]]\n",
    "x_test = test_set.drop([\"Next 30 Returns\"],axis=1)\n",
    "y_test = test_set[[\"Next 30 Returns\"]]\n",
    "\n",
    "# Multiple linear regression model:\n",
    "model = LinearRegression()\n",
    "model.fit(x_train,y_train);"
   ]
  },
  {
   "cell_type": "markdown",
   "metadata": {},
   "source": [
    "### Running the model in the test set:"
   ]
  },
  {
   "cell_type": "code",
   "execution_count": 13,
   "metadata": {},
   "outputs": [],
   "source": [
    "results_predicted= model.predict(x_test)"
   ]
  },
  {
   "cell_type": "markdown",
   "metadata": {},
   "source": [
    "### Plotting the results: "
   ]
  },
  {
   "cell_type": "code",
   "execution_count": 24,
   "metadata": {},
   "outputs": [
    {
     "data": {
      "image/png": "[encoded data removed]",
      "text/plain": [
       "<Figure size 720x360 with 1 Axes>"
      ]
     },
     "metadata": {
      "needs_background": "light"
     },
     "output_type": "display_data"
    }
   ],
   "source": [
    "plt.figure(figsize=(10,5))\n",
    "plt.scatter(results_predicted,y_test)\n",
    "plt.xlabel(\"Predicted Returns\",fontsize=13)\n",
    "plt.ylabel(\"Actuall Returns\",fontsize=13);"
   ]
  },
  {
   "cell_type": "markdown",
   "metadata": {},
   "source": [
    "### Percentage of the time the model got the signal right:"
   ]
  },
  {
   "cell_type": "code",
   "execution_count": 29,
   "metadata": {},
   "outputs": [
    {
     "name": "stdout",
     "output_type": "stream",
     "text": [
      "% of the time the model got the signal right (positive or negative) =  0.6265341905318527\n"
     ]
    }
   ],
   "source": [
    "signal = (np.where(results_predicted>0,1,0))\n",
    "signal = [i[0] for i in signal]\n",
    "actuall = (test_set[\"Next 30 Returns\"]>0).astype(int)\n",
    "print(\"% of the time the model got the signal right (positive or negative) = \",(actuall==signal).mean())"
   ]
  }
 ],
 "metadata": {
  "kernelspec": {
   "display_name": "Python 3",
   "language": "python",
   "name": "python3"
  },
  "language_info": {
   "codemirror_mode": {
    "name": "ipython",
    "version": 3
   },
   "file_extension": ".py",
   "mimetype": "text/x-python",
   "name": "python",
   "nbconvert_exporter": "python",
   "pygments_lexer": "ipython3",
   "version": "3.7.7"
  }
 },
 "nbformat": 4,
 "nbformat_minor": 4
}
