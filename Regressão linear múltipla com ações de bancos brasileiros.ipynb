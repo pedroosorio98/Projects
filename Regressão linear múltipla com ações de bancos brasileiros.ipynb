{
 "cells": [
  {
   "cell_type": "markdown",
   "metadata": {},
   "source": [
    "# Vamos fazer uma regressão linear múltipla para tentar explicar os retornos de ITUB4 usando os retornos do dia anterior de BBDC4, SANB4, ITUB4 e BBAS3:"
   ]
  },
  {
   "cell_type": "code",
   "execution_count": 1,
   "metadata": {},
   "outputs": [],
   "source": [
    "#Vamos fazer uma regressão múltipla com ações do setor bancário: \n",
    "import pandas as pd \n",
    "from pandas_datareader import data as wb \n",
    "import numpy as np \n",
    "from scipy import stats \n",
    "import statsmodels.api as sm \n",
    "import matplotlib.pyplot as plt"
   ]
  },
  {
   "cell_type": "code",
   "execution_count": 2,
   "metadata": {},
   "outputs": [],
   "source": [
    "#definimos os tickers das ações que utilizaremos: \n",
    "tickers = ['ITUB4.SA','SANB4.SA','BBDC4.SA','BBAS3.SA']\n",
    "base_acoes=pd.DataFrame()"
   ]
  },
  {
   "cell_type": "code",
   "execution_count": 3,
   "metadata": {},
   "outputs": [],
   "source": [
    "#Vamos pegar os preços no yahoo finance e passar tudo para um data frame:\n",
    "for i in tickers: \n",
    "    base_acoes[i]=wb.DataReader(i,data_source='yahoo',start='2014-01-01')['Adj Close']"
   ]
  },
  {
   "cell_type": "code",
   "execution_count": 4,
   "metadata": {},
   "outputs": [],
   "source": [
    "#Criamos uma base com os retornos diários de cada ativo: \n",
    "base_acoes_retornos = base_acoes/base_acoes.shift(1)-1\n",
    "\n",
    "#Adicionamos na base colunas do retorno do dia anterior: \n",
    "base_acoes_retornos[['ITUB4.SA Anterior','SANB4.SA Anterior','BBDC4.SA Anterior','BBAS3.SA Anterior']]\\\n",
    "=base_acoes_retornos.shift(1)\n",
    "\n",
    "#Tiramos as linha da base que possuem NAN: \n",
    "base_acoes_retornos = base_acoes_retornos.iloc[2:]"
   ]
  },
  {
   "cell_type": "code",
   "execution_count": 5,
   "metadata": {},
   "outputs": [
    {
     "data": {
      "text/html": [
       "<table class=\"simpletable\">\n",
       "<caption>OLS Regression Results</caption>\n",
       "<tr>\n",
       "  <th>Dep. Variable:</th>        <td>ITUB4.SA</td>     <th>  R-squared:         </th> <td>   0.007</td>\n",
       "</tr>\n",
       "<tr>\n",
       "  <th>Model:</th>                   <td>OLS</td>       <th>  Adj. R-squared:    </th> <td>   0.004</td>\n",
       "</tr>\n",
       "<tr>\n",
       "  <th>Method:</th>             <td>Least Squares</td>  <th>  F-statistic:       </th> <td>   2.824</td>\n",
       "</tr>\n",
       "<tr>\n",
       "  <th>Date:</th>             <td>Sun, 23 Aug 2020</td> <th>  Prob (F-statistic):</th>  <td>0.0237</td> \n",
       "</tr>\n",
       "<tr>\n",
       "  <th>Time:</th>                 <td>09:59:27</td>     <th>  Log-Likelihood:    </th> <td>  4019.4</td>\n",
       "</tr>\n",
       "<tr>\n",
       "  <th>No. Observations:</th>      <td>  1647</td>      <th>  AIC:               </th> <td>  -8029.</td>\n",
       "</tr>\n",
       "<tr>\n",
       "  <th>Df Residuals:</th>          <td>  1642</td>      <th>  BIC:               </th> <td>  -8002.</td>\n",
       "</tr>\n",
       "<tr>\n",
       "  <th>Df Model:</th>              <td>     4</td>      <th>                     </th>     <td> </td>   \n",
       "</tr>\n",
       "<tr>\n",
       "  <th>Covariance Type:</th>      <td>nonrobust</td>    <th>                     </th>     <td> </td>   \n",
       "</tr>\n",
       "</table>\n",
       "<table class=\"simpletable\">\n",
       "<tr>\n",
       "          <td></td>             <th>coef</th>     <th>std err</th>      <th>t</th>      <th>P>|t|</th>  <th>[0.025</th>    <th>0.975]</th>  \n",
       "</tr>\n",
       "<tr>\n",
       "  <th>const</th>             <td>    0.0007</td> <td>    0.001</td> <td>    1.439</td> <td> 0.150</td> <td>   -0.000</td> <td>    0.002</td>\n",
       "</tr>\n",
       "<tr>\n",
       "  <th>ITUB4.SA Anterior</th> <td>    0.0213</td> <td>    0.054</td> <td>    0.392</td> <td> 0.695</td> <td>   -0.085</td> <td>    0.128</td>\n",
       "</tr>\n",
       "<tr>\n",
       "  <th>SANB4.SA Anterior</th> <td>   -0.0277</td> <td>    0.019</td> <td>   -1.449</td> <td> 0.147</td> <td>   -0.065</td> <td>    0.010</td>\n",
       "</tr>\n",
       "<tr>\n",
       "  <th>BBDC4.SA Anterior</th> <td>   -0.0990</td> <td>    0.048</td> <td>   -2.078</td> <td> 0.038</td> <td>   -0.192</td> <td>   -0.006</td>\n",
       "</tr>\n",
       "<tr>\n",
       "  <th>BBAS3.SA Anterior</th> <td>    0.0428</td> <td>    0.029</td> <td>    1.454</td> <td> 0.146</td> <td>   -0.015</td> <td>    0.101</td>\n",
       "</tr>\n",
       "</table>\n",
       "<table class=\"simpletable\">\n",
       "<tr>\n",
       "  <th>Omnibus:</th>       <td>119.572</td> <th>  Durbin-Watson:     </th> <td>   2.004</td> \n",
       "</tr>\n",
       "<tr>\n",
       "  <th>Prob(Omnibus):</th> <td> 0.000</td>  <th>  Jarque-Bera (JB):  </th> <td> 584.004</td> \n",
       "</tr>\n",
       "<tr>\n",
       "  <th>Skew:</th>          <td> 0.081</td>  <th>  Prob(JB):          </th> <td>1.53e-127</td>\n",
       "</tr>\n",
       "<tr>\n",
       "  <th>Kurtosis:</th>      <td> 5.913</td>  <th>  Cond. No.          </th> <td>    127.</td> \n",
       "</tr>\n",
       "</table><br/><br/>Warnings:<br/>[1] Standard Errors assume that the covariance matrix of the errors is correctly specified."
      ],
      "text/plain": [
       "<class 'statsmodels.iolib.summary.Summary'>\n",
       "\"\"\"\n",
       "                            OLS Regression Results                            \n",
       "==============================================================================\n",
       "Dep. Variable:               ITUB4.SA   R-squared:                       0.007\n",
       "Model:                            OLS   Adj. R-squared:                  0.004\n",
       "Method:                 Least Squares   F-statistic:                     2.824\n",
       "Date:                Sun, 23 Aug 2020   Prob (F-statistic):             0.0237\n",
       "Time:                        09:59:27   Log-Likelihood:                 4019.4\n",
       "No. Observations:                1647   AIC:                            -8029.\n",
       "Df Residuals:                    1642   BIC:                            -8002.\n",
       "Df Model:                           4                                         \n",
       "Covariance Type:            nonrobust                                         \n",
       "=====================================================================================\n",
       "                        coef    std err          t      P>|t|      [0.025      0.975]\n",
       "-------------------------------------------------------------------------------------\n",
       "const                 0.0007      0.001      1.439      0.150      -0.000       0.002\n",
       "ITUB4.SA Anterior     0.0213      0.054      0.392      0.695      -0.085       0.128\n",
       "SANB4.SA Anterior    -0.0277      0.019     -1.449      0.147      -0.065       0.010\n",
       "BBDC4.SA Anterior    -0.0990      0.048     -2.078      0.038      -0.192      -0.006\n",
       "BBAS3.SA Anterior     0.0428      0.029      1.454      0.146      -0.015       0.101\n",
       "==============================================================================\n",
       "Omnibus:                      119.572   Durbin-Watson:                   2.004\n",
       "Prob(Omnibus):                  0.000   Jarque-Bera (JB):              584.004\n",
       "Skew:                           0.081   Prob(JB):                    1.53e-127\n",
       "Kurtosis:                       5.913   Cond. No.                         127.\n",
       "==============================================================================\n",
       "\n",
       "Warnings:\n",
       "[1] Standard Errors assume that the covariance matrix of the errors is correctly specified.\n",
       "\"\"\""
      ]
     },
     "execution_count": 5,
     "metadata": {},
     "output_type": "execute_result"
    }
   ],
   "source": [
    "#Rodamos uma regressão querendo explicar o retorno de ITUB4 pelo retorno do dia anterior de cada ação: \n",
    "X = base_acoes_retornos[['ITUB4.SA Anterior','SANB4.SA Anterior','BBDC4.SA Anterior','BBAS3.SA Anterior']]\n",
    "Y = base_acoes_retornos['ITUB4.SA']\n",
    "X1 = sm.add_constant(X)\n",
    "reg = sm.OLS(Y,X1).fit()\n",
    "reg.summary()"
   ]
  }
 ],
 "metadata": {
  "kernelspec": {
   "display_name": "Python 3",
   "language": "python",
   "name": "python3"
  },
  "language_info": {
   "codemirror_mode": {
    "name": "ipython",
    "version": 3
   },
   "file_extension": ".py",
   "mimetype": "text/x-python",
   "name": "python",
   "nbconvert_exporter": "python",
   "pygments_lexer": "ipython3",
   "version": "3.7.7"
  }
 },
 "nbformat": 4,
 "nbformat_minor": 2
}
